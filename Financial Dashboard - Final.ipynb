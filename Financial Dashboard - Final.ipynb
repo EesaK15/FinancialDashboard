{
 "cells": [
  {
   "cell_type": "markdown",
   "id": "ee84a1ba",
   "metadata": {},
   "source": [
    "# Financial Dashboard"
   ]
  },
  {
   "cell_type": "markdown",
   "id": "1b6e0474",
   "metadata": {},
   "source": [
    "The Bank Transaction Analyzer is a Python project that simplifies financial data management using CIBC Online. It employs data analysis, cleaning techniques, and Streamlit to create an interactive dashboard. Users can effortlessly explore their transaction history, filter data, and visualize spending patterns. This user-friendly tool enhances financial awareness and decision-making."
   ]
  },
  {
   "cell_type": "markdown",
   "id": "b1600ead",
   "metadata": {},
   "source": [
    "####  Downloading Transactions"
   ]
  },
  {
   "cell_type": "markdown",
   "id": "e7683624",
   "metadata": {},
   "source": [
    "Proceed to the CIBC website and visit the 'Download Transactions' section on the side menus. Select the desired account, and click 'All Available' at the display option. Scroll below to find Financial Management Software with the 'Spreadsheet(CSV)' option"
   ]
  },
  {
   "cell_type": "markdown",
   "id": "08773fb4",
   "metadata": {},
   "source": [
    "#### Creating A New Folder"
   ]
  },
  {
   "cell_type": "markdown",
   "id": "2dded19c",
   "metadata": {},
   "source": [
    "Creating a folder will assist in organization"
   ]
  },
  {
   "cell_type": "code",
   "execution_count": null,
   "id": "b14e4d1b",
   "metadata": {},
   "outputs": [],
   "source": [
    "import os\n",
    "\n",
    "# Identify A Path To The Desktop or any location\n",
    "desktop_path = os.path.expanduser(\"C:\\\\Users\\\\S00742997//Desktop\")\n",
    "\n",
    "# Name of the new folder\n",
    "new_folder_name = \"Bank_Transactions\"\n",
    "\n",
    "# Create the full path for the new folder\n",
    "new_folder_path = os.path.join(desktop_path, new_folder_name)\n",
    "\n",
    "# Create the new folder\n",
    "os.makedirs(new_folder_path)\n",
    "\n",
    "# A confirmation message\n",
    "print(f\"Folder '{new_folder_name}' created on the desktop.\") \n"
   ]
  },
  {
   "cell_type": "markdown",
   "id": "8a9db022",
   "metadata": {},
   "source": [
    "#### Transferring the file, from download to the new location"
   ]
  },
  {
   "cell_type": "code",
   "execution_count": null,
   "id": "cc06e677",
   "metadata": {},
   "outputs": [],
   "source": [
    "import shutil\n",
    "\n",
    "# Path to the source folder. The file will be in the downloads\n",
    "source_folder = \"C:\\\\Users\\\\S00742997\\\\Downloads\\\\cibc.csv\"\n",
    "\n",
    "# Path to the destination folder. This is the file that we created earlier. \n",
    "destination_folder = \"C:/Users/S00742997/Desktop/Bank_Transactions\"\n",
    "\n",
    "# Move the source folder to the destination folder\n",
    "shutil.move(source_folder, destination_folder)\n",
    "\n",
    "print(f\"Folder moved from '{source_folder}' to '{destination_folder}'.\")\n"
   ]
  },
  {
   "cell_type": "markdown",
   "id": "0e200902",
   "metadata": {},
   "source": [
    "### Working with the file"
   ]
  },
  {
   "cell_type": "markdown",
   "id": "cbbcd650",
   "metadata": {},
   "source": [
    "#### Adding a header section."
   ]
  },
  {
   "cell_type": "markdown",
   "id": "21bb312f",
   "metadata": {},
   "source": [
    "The file initially does not contain any headers, hence we must add ours in order to filter and sort the values"
   ]
  },
  {
   "cell_type": "code",
   "execution_count": null,
   "id": "75d96528",
   "metadata": {},
   "outputs": [],
   "source": [
    "import csv\n",
    "\n",
    "# New header (list of column names). These will now be in the first row of the sheet\n",
    "new_header = [\"Date\", \"Transaction\", \"Debited\", \"Credited\", \"Account\"]  # Replace with your actual column names\n",
    "\n",
    "# File Path created\n",
    "csv_file_path = destination_folder +'\\cibc.csv'\n",
    "\n",
    "# Read the existing CSV data\n",
    "existing_data = []\n",
    "with open(csv_file_path, newline='') as csvfile:\n",
    "    reader = csv.reader(csvfile)\n",
    "    for row in reader:\n",
    "        existing_data.append(row)\n",
    "\n",
    "# Insert the new header at the beginning\n",
    "updated_data = [new_header] + existing_data\n",
    "\n",
    "# Write the updated data back to the CSV file\n",
    "with open(csv_file_path, 'w', newline='') as csvfile:\n",
    "    writer = csv.writer(csvfile)\n",
    "    writer.writerows(updated_data)\n",
    "\n",
    "# Confirmation message\n",
    "print(\"New header added to the CSV file.\")"
   ]
  },
  {
   "cell_type": "markdown",
   "id": "cdc8ffa5",
   "metadata": {},
   "source": [
    "### Data Cleansing"
   ]
  },
  {
   "cell_type": "markdown",
   "id": "067179f6",
   "metadata": {},
   "source": [
    "To clean the data, we must clear up inconsistencies in the data as well as improve the methods of organization"
   ]
  },
  {
   "cell_type": "markdown",
   "id": "866c3b4e",
   "metadata": {},
   "source": [
    "#### Importing the file"
   ]
  },
  {
   "cell_type": "markdown",
   "id": "afbd3b99",
   "metadata": {},
   "source": [
    "Importing the Data from the new location"
   ]
  },
  {
   "cell_type": "code",
   "execution_count": 38,
   "id": "70f0ecfc",
   "metadata": {},
   "outputs": [],
   "source": [
    "import pandas as pd\n",
    "\n",
    "df = pd.read_csv(csv_file_path)"
   ]
  },
  {
   "cell_type": "code",
   "execution_count": 39,
   "id": "b65717c6",
   "metadata": {},
   "outputs": [],
   "source": [
    "from datetime import datetime\n",
    "\n",
    "df['Date'] = pd.to_datetime(df['Date'])  # Convert 'Date' column to datetime"
   ]
  },
  {
   "cell_type": "markdown",
   "id": "98934cb5",
   "metadata": {},
   "source": [
    "#### Creating a  Year & Month Column"
   ]
  },
  {
   "cell_type": "code",
   "execution_count": 40,
   "id": "22afb0d4",
   "metadata": {},
   "outputs": [],
   "source": [
    "# Creating a Function to obtain the 'Month':\n",
    "\n",
    "def get_month_name(month_number):\n",
    "    return datetime.strptime(str(month_number), \"%m\").strftime(\"%B\")\n",
    "\n",
    "df['Month'] = df['Date'].apply(lambda date: get_month_name(date.month))\n",
    "df['Year'] = df['Date'].apply(lambda date: date.year)\n",
    "\n",
    "# The new table consists of the following columns: \n",
    "df= df[['Year', 'Month', 'Transaction', 'Debited', 'Credited', 'Account']]\n"
   ]
  },
  {
   "cell_type": "markdown",
   "id": "1246af91",
   "metadata": {},
   "source": [
    "#### Fixing Transactions "
   ]
  },
  {
   "cell_type": "code",
   "execution_count": 41,
   "id": "c44d985b",
   "metadata": {},
   "outputs": [],
   "source": [
    "# Convert the Transaction into lower case\n",
    "df['Transaction'] = df['Transaction'].str.lower() \n",
    "# used to split the values in the 'Transaction' \n",
    "df['Transaction'] = df['Transaction'].str.split('#').str[0]"
   ]
  },
  {
   "cell_type": "code",
   "execution_count": 42,
   "id": "1c1055f9",
   "metadata": {},
   "outputs": [],
   "source": [
    "# This code removes the word \"the\" from each entry in the 'Transaction' column\n",
    "df['Transaction'] = df['Transaction'].str.replace(r'\\bthe\\b', '', regex=True) "
   ]
  },
  {
   "cell_type": "markdown",
   "id": "2a970309",
   "metadata": {},
   "source": [
    "Cleaning Null Values and replacing it with 0"
   ]
  },
  {
   "cell_type": "code",
   "execution_count": 43,
   "id": "85e9f44f",
   "metadata": {},
   "outputs": [],
   "source": [
    "df.fillna(0, inplace=True)  # This will fill NaN values with 0 in the original DataFrame"
   ]
  },
  {
   "cell_type": "markdown",
   "id": "56a89168",
   "metadata": {},
   "source": [
    "Spotify Transactions"
   ]
  },
  {
   "cell_type": "code",
   "execution_count": 44,
   "id": "19539435",
   "metadata": {},
   "outputs": [],
   "source": [
    "# This code removes the random letters and numbers\n",
    "df['Transaction'] = df['Transaction'].str.replace(r'spotify [a-z0-9]+', 'spotify', regex=True)\n",
    "df['Transaction'] = df['Transaction'].str.replace(r'\\d+', '', regex=True)"
   ]
  },
  {
   "cell_type": "markdown",
   "id": "9d92f76f",
   "metadata": {},
   "source": [
    "Fixing Presto Issues"
   ]
  },
  {
   "cell_type": "code",
   "execution_count": 45,
   "id": "2a7ec625",
   "metadata": {},
   "outputs": [],
   "source": [
    "def normalize_transaction(transaction):\n",
    "    # Remove variations and standardize\n",
    "    if 'presto' in transaction:\n",
    "        return 'PRESTO'\n",
    "    return transaction\n",
    "\n",
    "# Apply the normalization function to the 'Transaction' column\n",
    "df['Transaction'] = df['Transaction'].apply(normalize_transaction)\n",
    "\n",
    "# Group by 'Transaction' and sum 'Debited'\n",
    "x = df.groupby('Transaction')['Debited'].sum().reset_index() .sort_values('Debited', ascending = False) # Sorting the Transactions"
   ]
  },
  {
   "cell_type": "markdown",
   "id": "2d020f81",
   "metadata": {},
   "source": [
    "Taking a look at our DataFrame to confirm there are no issues "
   ]
  },
  {
   "cell_type": "code",
   "execution_count": 46,
   "id": "7c88a177",
   "metadata": {},
   "outputs": [
    {
     "data": {
      "text/html": [
       "<div>\n",
       "<style scoped>\n",
       "    .dataframe tbody tr th:only-of-type {\n",
       "        vertical-align: middle;\n",
       "    }\n",
       "\n",
       "    .dataframe tbody tr th {\n",
       "        vertical-align: top;\n",
       "    }\n",
       "\n",
       "    .dataframe thead th {\n",
       "        text-align: right;\n",
       "    }\n",
       "</style>\n",
       "<table border=\"1\" class=\"dataframe\">\n",
       "  <thead>\n",
       "    <tr style=\"text-align: right;\">\n",
       "      <th></th>\n",
       "      <th>Year</th>\n",
       "      <th>Month</th>\n",
       "      <th>Transaction</th>\n",
       "      <th>Debited</th>\n",
       "      <th>Credited</th>\n",
       "      <th>Account</th>\n",
       "    </tr>\n",
       "  </thead>\n",
       "  <tbody>\n",
       "    <tr>\n",
       "      <th>0</th>\n",
       "      <td>2023</td>\n",
       "      <td>August</td>\n",
       "      <td>tim hortons</td>\n",
       "      <td>10.14</td>\n",
       "      <td>0.00</td>\n",
       "      <td>4505********4969</td>\n",
       "    </tr>\n",
       "    <tr>\n",
       "      <th>1</th>\n",
       "      <td>2023</td>\n",
       "      <td>August</td>\n",
       "      <td>old navy ca  whitby, on</td>\n",
       "      <td>0.00</td>\n",
       "      <td>9.59</td>\n",
       "      <td>4505********4969</td>\n",
       "    </tr>\n",
       "    <tr>\n",
       "      <th>2</th>\n",
       "      <td>2023</td>\n",
       "      <td>August</td>\n",
       "      <td>city of oshawa oshawa, on</td>\n",
       "      <td>17.02</td>\n",
       "      <td>0.00</td>\n",
       "      <td>4505********4969</td>\n",
       "    </tr>\n",
       "    <tr>\n",
       "      <th>3</th>\n",
       "      <td>2023</td>\n",
       "      <td>August</td>\n",
       "      <td>revolution nutrition saint-bruno, qc</td>\n",
       "      <td>129.93</td>\n",
       "      <td>0.00</td>\n",
       "      <td>4505********4969</td>\n",
       "    </tr>\n",
       "    <tr>\n",
       "      <th>4</th>\n",
       "      <td>2023</td>\n",
       "      <td>August</td>\n",
       "      <td>popeyes</td>\n",
       "      <td>9.03</td>\n",
       "      <td>0.00</td>\n",
       "      <td>4505********4969</td>\n",
       "    </tr>\n",
       "  </tbody>\n",
       "</table>\n",
       "</div>"
      ],
      "text/plain": [
       "   Year   Month                           Transaction  Debited  Credited  \\\n",
       "0  2023  August                          tim hortons     10.14      0.00   \n",
       "1  2023  August               old navy ca  whitby, on     0.00      9.59   \n",
       "2  2023  August             city of oshawa oshawa, on    17.02      0.00   \n",
       "3  2023  August  revolution nutrition saint-bruno, qc   129.93      0.00   \n",
       "4  2023  August                              popeyes      9.03      0.00   \n",
       "\n",
       "            Account  \n",
       "0  4505********4969  \n",
       "1  4505********4969  \n",
       "2  4505********4969  \n",
       "3  4505********4969  \n",
       "4  4505********4969  "
      ]
     },
     "execution_count": 46,
     "metadata": {},
     "output_type": "execute_result"
    }
   ],
   "source": [
    "df.head()"
   ]
  },
  {
   "cell_type": "markdown",
   "id": "e666b56e",
   "metadata": {},
   "source": [
    "### Creating A Dashboard"
   ]
  },
  {
   "cell_type": "markdown",
   "id": "0f8f4e8b",
   "metadata": {},
   "source": [
    "#### Title & Home Page"
   ]
  },
  {
   "cell_type": "code",
   "execution_count": 47,
   "id": "4b56a8d2",
   "metadata": {},
   "outputs": [
    {
     "data": {
      "text/plain": [
       "DeltaGenerator()"
      ]
     },
     "execution_count": 47,
     "metadata": {},
     "output_type": "execute_result"
    }
   ],
   "source": [
    "import streamlit as st\n",
    "\n",
    "# A page is created \n",
    "st.set_page_config(page_title='Transactions Dashboard', page_icon=':moneybag:', layout='wide')\n",
    "\n",
    "# Title created\n",
    "st.title(':moneybag: Finance Dashboard')\n",
    "st.markdown('##')"
   ]
  },
  {
   "cell_type": "markdown",
   "id": "b725fef7",
   "metadata": {},
   "source": [
    "#### Creating Filters"
   ]
  },
  {
   "cell_type": "markdown",
   "id": "ca9430de",
   "metadata": {},
   "source": [
    "Creating filters for the page is important as it will allow the user to customize their views based off type of transactions, certain months and/or years"
   ]
  },
  {
   "cell_type": "code",
   "execution_count": 48,
   "id": "280aa308",
   "metadata": {},
   "outputs": [],
   "source": [
    "# A header on the sidebar has been created for 'Filters'\n",
    "st.sidebar.header('Filters: ')\n",
    "\n",
    "# Filter created for the 'Month', 'Year', 'Transaction'\n",
    "month = st.sidebar.multiselect('Select the Month:', options=df['Month'].unique(), default=df['Month'].unique().tolist())\n",
    "year = st.sidebar.multiselect('Select the Year:', options=df['Year'].unique(), default=df['Year'].unique().tolist())\n",
    "transaction = st.sidebar.multiselect('Select the Transaction', options=df['Transaction'].unique(), default=df['Transaction'].unique().tolist())\n",
    "\n",
    "# The effects of the 'Month', 'Year', 'Transaction' button will impact the results of graphs\n",
    "df= df.query('Month == @month & Year == @year & Transaction == @transaction')\n"
   ]
  },
  {
   "cell_type": "markdown",
   "id": "9ecbc96c",
   "metadata": {},
   "source": [
    "#### Total Spendings, Average and First Impressions"
   ]
  },
  {
   "cell_type": "code",
   "execution_count": 49,
   "id": "5155fe76",
   "metadata": {},
   "outputs": [
    {
     "data": {
      "text/plain": [
       "DeltaGenerator()"
      ]
     },
     "execution_count": 49,
     "metadata": {},
     "output_type": "execute_result"
    }
   ],
   "source": [
    "total_cost = int(df['Debited'].sum()) # The sum of the Debited column is the total spending \n",
    "spending =df[df['Debited']>0] # This creates a DataFrame for debit values over 0\n",
    "transaction_count = len(spending) # This will determine the amount of transactions\n",
    "average = round((total_cost/transaction_count),2) # The average is determined by total cost over number of transaction\n",
    "\n",
    "# Placing values on the page\n",
    "left_column, right_column = st.columns(2)  # Use two columns, but only use the first one\n",
    "with left_column:\n",
    "    st.subheader('Total Debited :')\n",
    "    st.subheader(f\"CAD $ {total_cost:,}\") # Total Cost\n",
    "with right_column:\n",
    "    st.subheader('Average Cost Per Transaction: ')\n",
    "    st.subheader(f'CAD $ {average:,}') # Average\n",
    "\n",
    "st.markdown('---')\n"
   ]
  },
  {
   "cell_type": "markdown",
   "id": "124c618f",
   "metadata": {},
   "source": [
    "### Adding Graphs"
   ]
  },
  {
   "cell_type": "markdown",
   "id": "4d0c02c1",
   "metadata": {},
   "source": [
    "#### Top 10 Costly Transactions & Costs per Year"
   ]
  },
  {
   "cell_type": "markdown",
   "id": "124053e2",
   "metadata": {},
   "source": [
    "This will display the transactions that have costed the user the most money. These transactions are grouped"
   ]
  },
  {
   "cell_type": "code",
   "execution_count": 50,
   "id": "da8c13e7",
   "metadata": {},
   "outputs": [],
   "source": [
    "# Import the approrpriate libraries\n",
    "import plotly.express as px"
   ]
  },
  {
   "cell_type": "code",
   "execution_count": 51,
   "id": "25f6212b",
   "metadata": {},
   "outputs": [],
   "source": [
    "top_10 = x.head(10) # The 'top_10' variable, contains the variable x\n",
    "# variable x is a DF that is grouped by the debited amounts in order\n",
    "# By taking the first 10 values, we are able to see the top 10 most costly amounts"
   ]
  },
  {
   "cell_type": "code",
   "execution_count": 52,
   "id": "723142b8",
   "metadata": {},
   "outputs": [],
   "source": [
    "# The result_year varibale is sorted by Year with the sum of the total debited amounts for the corresponding year\n",
    "result_year = df.groupby(['Year'])['Debited'].sum().reset_index().sort_values('Year', ascending = False)"
   ]
  },
  {
   "cell_type": "code",
   "execution_count": 53,
   "id": "4d351366",
   "metadata": {},
   "outputs": [
    {
     "data": {
      "text/plain": [
       "DeltaGenerator()"
      ]
     },
     "execution_count": 53,
     "metadata": {},
     "output_type": "execute_result"
    }
   ],
   "source": [
    "# The two variables for graphs is created \n",
    "fig_10 = px.bar(top_10, x='Transaction', y='Debited', title='Top 10 Costly Transactions', color_discrete_sequence = ['red'])\n",
    "fig_year = px.bar(result_year, x='Year', y='Debited', title='Debited Amount Over Years', color_discrete_sequence=['green'])\n",
    "\n",
    "col1, col2 = st.columns(2)  # Create two columns\n",
    "\n",
    "# The graphs are placed into each column\n",
    "col1.plotly_chart(fig_10, use_container_width=True)\n",
    "col2.plotly_chart(fig_year, use_container_width=True)\n"
   ]
  },
  {
   "cell_type": "markdown",
   "id": "2a7a02ea",
   "metadata": {},
   "source": [
    "#### Top 10 Most Recurring Transactions"
   ]
  },
  {
   "cell_type": "code",
   "execution_count": 54,
   "id": "0ae8ed8f",
   "metadata": {},
   "outputs": [
    {
     "data": {
      "text/plain": [
       "DeltaGenerator()"
      ]
     },
     "execution_count": 54,
     "metadata": {},
     "output_type": "execute_result"
    }
   ],
   "source": [
    "# The data frame of the top 10 transactions that have occured the most\n",
    "transaction_count = df['Transaction'].value_counts().head(10)\n",
    "\n",
    "# Creating the graph\n",
    "fig = px.bar(\n",
    "    x=transaction_count.values, \n",
    "    y=transaction_count.index,\n",
    "    orientation='h',  # Horizontal bar chart\n",
    "    labels={'x': 'Number of Occurrences', 'y': 'Transaction'},\n",
    "    title='Top 10 Most Recurring Transactions',\n",
    "    color_discrete_sequence=['red'],  # Set the bar color to red\n",
    "\n",
    ")\n",
    "st.plotly_chart(fig)"
   ]
  },
  {
   "cell_type": "markdown",
   "id": "21352d46",
   "metadata": {},
   "source": [
    "#### Transaction Trend"
   ]
  },
  {
   "cell_type": "code",
   "execution_count": 55,
   "id": "4dad40e8",
   "metadata": {},
   "outputs": [
    {
     "data": {
      "text/plain": [
       "DeltaGenerator()"
      ]
     },
     "execution_count": 55,
     "metadata": {},
     "output_type": "execute_result"
    }
   ],
   "source": [
    "# This variable was created in order to keep a track of the months in order\n",
    "month_order = [\n",
    "    'January', 'February', 'March', 'April', 'May', 'June',\n",
    "    'July', 'August', 'September', 'October', 'November', 'December'\n",
    "]\n",
    "\n",
    "# Convert the 'Month' column to a categorical variable with custom sorting\n",
    "df['Month'] = pd.Categorical(df['Month'], categories=month_order, ordered=True)\n",
    "\n",
    "# Group and aggregate the data by year and month\n",
    "monthly_data = df.groupby(['Year', 'Month'])['Debited'].sum().reset_index()\n",
    "\n",
    "# Create line graph using Plotly Express (px)\n",
    "fig = px.line(\n",
    "    monthly_data, x='Month', y='Debited', color='Year',\n",
    "    labels={'Debited': 'Debited'},\n",
    "    title='Monthly Debited Over Years'\n",
    ")\n",
    "\n",
    "# Customize the plot layout\n",
    "fig.update_xaxes(categoryorder='array', categoryarray=month_order)  # Sort months\n",
    "fig.update_layout(width=1000, height=500)  # Adjust plot size\n",
    "\n",
    "# Annotations are added to the graph for eaiser reading\n",
    "for i, row in monthly_data.iterrows():\n",
    "    fig.add_annotation(\n",
    "        text=f'{row[\"Debited\"]:.2f}', x=row[\"Month\"], y=row[\"Debited\"],\n",
    "        showarrow=True, arrowhead=2, font=dict(size=10)\n",
    "    )\n",
    "\n",
    "\n",
    "# Streamlit app\n",
    "    # A title is created\n",
    "st.title('Monthly Debited Analysis')\n",
    "st.plotly_chart(fig)"
   ]
  },
  {
   "cell_type": "code",
   "execution_count": 56,
   "id": "af6f47af",
   "metadata": {},
   "outputs": [
    {
     "data": {
      "text/plain": [
       "DeltaGenerator()"
      ]
     },
     "execution_count": 56,
     "metadata": {},
     "output_type": "execute_result"
    }
   ],
   "source": [
    "# Display the dataframe\n",
    "st.dataframe(df)"
   ]
  },
  {
   "cell_type": "code",
   "execution_count": null,
   "id": "5b7d2cb4",
   "metadata": {},
   "outputs": [],
   "source": []
  }
 ],
 "metadata": {
  "kernelspec": {
   "display_name": "Python 3 (ipykernel)",
   "language": "python",
   "name": "python3"
  },
  "language_info": {
   "codemirror_mode": {
    "name": "ipython",
    "version": 3
   },
   "file_extension": ".py",
   "mimetype": "text/x-python",
   "name": "python",
   "nbconvert_exporter": "python",
   "pygments_lexer": "ipython3",
   "version": "3.10.9"
  }
 },
 "nbformat": 4,
 "nbformat_minor": 5
}
